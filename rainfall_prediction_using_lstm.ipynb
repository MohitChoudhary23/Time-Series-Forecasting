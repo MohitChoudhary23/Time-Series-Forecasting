{
  "nbformat": 4,
  "nbformat_minor": 0,
  "metadata": {
    "colab": {
      "name": "Untitled7.ipynb",
      "provenance": []
    },
    "kernelspec": {
      "name": "python3",
      "display_name": "Python 3"
    }
  },
  "cells": [
    {
      "cell_type": "code",
      "metadata": {
        "id": "0UJlYbuc5ivL"
      },
      "source": [
        "import numpy as np\r\n",
        "import pandas as pd\r\n",
        "import matplotlib.pyplot as plt\r\n",
        "import seaborn as sns\r\n",
        "#importing libraries\r\n",
        "\r\n",
        "import numpy as np\r\n",
        "from pandas import DataFrame\r\n",
        "import pandas_datareader as web\r\n",
        "import keras\r\n",
        "import plotly.graph_objects as go\r\n",
        "import tensorflow as tf\r\n",
        "import pandas as pd\r\n",
        "import itertools\r\n",
        "from keras.models import Sequential\r\n",
        "import matplotlib.pyplot as plt\r\n",
        "from sklearn.preprocessing import MinMaxScaler\r\n",
        "from keras.layers import Dense,LSTM\r\n",
        "from __future__ import absolute_import,division,print_function\r\n",
        "import os\r\n",
        "import math"
      ],
      "execution_count": 277,
      "outputs": []
    },
    {
      "cell_type": "code",
      "metadata": {
        "id": "G7HowiDyRMdp"
      },
      "source": [
        "### Importing required Libraries\r\n",
        "import numpy as np\r\n",
        "import pandas as pd\r\n",
        "import matplotlib.pyplot as plt\r\n",
        "import seaborn as sns"
      ],
      "execution_count": 133,
      "outputs": []
    },
    {
      "cell_type": "code",
      "metadata": {
        "id": "tHcDujCnRq4U"
      },
      "source": [
        "## reading the dataset\r\n",
        "train_data=pd.read_csv('/content/Japan_cities_rainfall.csv')\r\n",
        "to_predict=pd.read_csv('/content/rainfall_to_predict.csv')\r\n",
        "\r\n",
        "# making a copy of original datset \r\n",
        "train_data_original=train_data\r\n",
        "to_predict_original=to_predict"
      ],
      "execution_count": 239,
      "outputs": []
    },
    {
      "cell_type": "code",
      "metadata": {
        "colab": {
          "base_uri": "https://localhost:8080/",
          "height": 195
        },
        "id": "qgmwVvQwUCH0",
        "outputId": "298e922a-d584-4450-d63c-8d1a8bf27b10"
      },
      "source": [
        "train_data.head()"
      ],
      "execution_count": 176,
      "outputs": [
        {
          "output_type": "execute_result",
          "data": {
            "text/html": [
              "<div>\n",
              "<style scoped>\n",
              "    .dataframe tbody tr th:only-of-type {\n",
              "        vertical-align: middle;\n",
              "    }\n",
              "\n",
              "    .dataframe tbody tr th {\n",
              "        vertical-align: top;\n",
              "    }\n",
              "\n",
              "    .dataframe thead th {\n",
              "        text-align: right;\n",
              "    }\n",
              "</style>\n",
              "<table border=\"1\" class=\"dataframe\">\n",
              "  <thead>\n",
              "    <tr style=\"text-align: right;\">\n",
              "      <th></th>\n",
              "      <th>date_time</th>\n",
              "      <th>place</th>\n",
              "      <th>longitude</th>\n",
              "      <th>latitude</th>\n",
              "      <th>rainfall</th>\n",
              "    </tr>\n",
              "  </thead>\n",
              "  <tbody>\n",
              "    <tr>\n",
              "      <th>0</th>\n",
              "      <td>20200918_080000</td>\n",
              "      <td>Naha</td>\n",
              "      <td>127.686667</td>\n",
              "      <td>26.206667</td>\n",
              "      <td>0.0</td>\n",
              "    </tr>\n",
              "    <tr>\n",
              "      <th>1</th>\n",
              "      <td>20200918_080000</td>\n",
              "      <td>Fukuoka</td>\n",
              "      <td>130.375000</td>\n",
              "      <td>33.581667</td>\n",
              "      <td>0.0</td>\n",
              "    </tr>\n",
              "    <tr>\n",
              "      <th>2</th>\n",
              "      <td>20200918_080000</td>\n",
              "      <td>Sendai</td>\n",
              "      <td>140.896667</td>\n",
              "      <td>38.261667</td>\n",
              "      <td>0.0</td>\n",
              "    </tr>\n",
              "    <tr>\n",
              "      <th>3</th>\n",
              "      <td>20200918_080000</td>\n",
              "      <td>Osaka</td>\n",
              "      <td>135.518333</td>\n",
              "      <td>34.681667</td>\n",
              "      <td>0.0</td>\n",
              "    </tr>\n",
              "    <tr>\n",
              "      <th>4</th>\n",
              "      <td>20200918_080000</td>\n",
              "      <td>Nigata</td>\n",
              "      <td>139.018333</td>\n",
              "      <td>37.893333</td>\n",
              "      <td>3.0</td>\n",
              "    </tr>\n",
              "  </tbody>\n",
              "</table>\n",
              "</div>"
            ],
            "text/plain": [
              "         date_time     place   longitude   latitude  rainfall\n",
              "0  20200918_080000      Naha  127.686667  26.206667       0.0\n",
              "1  20200918_080000   Fukuoka  130.375000  33.581667       0.0\n",
              "2  20200918_080000    Sendai  140.896667  38.261667       0.0\n",
              "3  20200918_080000     Osaka  135.518333  34.681667       0.0\n",
              "4  20200918_080000    Nigata  139.018333  37.893333       3.0"
            ]
          },
          "metadata": {
            "tags": []
          },
          "execution_count": 176
        }
      ]
    },
    {
      "cell_type": "code",
      "metadata": {
        "colab": {
          "base_uri": "https://localhost:8080/"
        },
        "id": "W7qvO8tMUJtF",
        "outputId": "4d26cf27-b07a-4792-aa10-0a620074b60d"
      },
      "source": [
        "train_data.dtypes"
      ],
      "execution_count": 177,
      "outputs": [
        {
          "output_type": "execute_result",
          "data": {
            "text/plain": [
              "date_time     object\n",
              "place         object\n",
              "longitude    float64\n",
              "latitude     float64\n",
              "rainfall     float64\n",
              "dtype: object"
            ]
          },
          "metadata": {
            "tags": []
          },
          "execution_count": 177
        }
      ]
    },
    {
      "cell_type": "code",
      "metadata": {
        "id": "e5TGWY-yUOBQ"
      },
      "source": [
        "## we shall make the date_time column to pandas datetime \r\n",
        "train_data['date_time'] = pd.to_datetime(train_data['date_time'],format='%Y%m%d_%H%M%S')"
      ],
      "execution_count": 240,
      "outputs": []
    },
    {
      "cell_type": "code",
      "metadata": {
        "colab": {
          "base_uri": "https://localhost:8080/"
        },
        "id": "g7O5nRgyaXtE",
        "outputId": "ce28b128-a0e1-4696-d237-aab263292091"
      },
      "source": [
        "train_data.dtypes\r\n",
        "## now date_time has changed to pandas datetime"
      ],
      "execution_count": 179,
      "outputs": [
        {
          "output_type": "execute_result",
          "data": {
            "text/plain": [
              "date_time    datetime64[ns]\n",
              "place                object\n",
              "longitude           float64\n",
              "latitude            float64\n",
              "rainfall            float64\n",
              "dtype: object"
            ]
          },
          "metadata": {
            "tags": []
          },
          "execution_count": 179
        }
      ]
    },
    {
      "cell_type": "code",
      "metadata": {
        "id": "ErOjyF3yc7EL"
      },
      "source": [
        "place_name = [' Tokyo',' Naha',' Sendai',' Osaka',' Nigata',' Fukuoka']"
      ],
      "execution_count": 241,
      "outputs": []
    },
    {
      "cell_type": "markdown",
      "metadata": {
        "id": "2P7ojRXxwfBH"
      },
      "source": [
        ""
      ]
    },
    {
      "cell_type": "code",
      "metadata": {
        "id": "pH0IXgIYaZpQ"
      },
      "source": [
        "\r\n",
        "place_list= [\r\n",
        "train_data.loc[train_data['place']==' Tokyo'],\r\n",
        "train_data.loc[train_data['place']==' Naha'],\r\n",
        "train_data.loc[train_data['place']==' Sendai'],\r\n",
        "train_data.loc[train_data['place']==' Osaka'],\r\n",
        "train_data.loc[train_data['place']==' Nigata'],\r\n",
        "train_data.loc[train_data['place']==' Fukuoka']]"
      ],
      "execution_count": 242,
      "outputs": []
    },
    {
      "cell_type": "code",
      "metadata": {
        "colab": {
          "base_uri": "https://localhost:8080/"
        },
        "id": "jXR2msPSb9JR",
        "outputId": "b1973a64-4257-46da-f817-39c1c839aaba"
      },
      "source": [
        "for i in place_list:\r\n",
        "  i.index = i.date_time\r\n",
        "  i.drop(['place','longitude','date_time','latitude'],axis = 1,inplace = True)\r\n",
        "  "
      ],
      "execution_count": 243,
      "outputs": [
        {
          "output_type": "stream",
          "text": [
            "/usr/local/lib/python3.6/dist-packages/pandas/core/frame.py:4174: SettingWithCopyWarning: \n",
            "A value is trying to be set on a copy of a slice from a DataFrame\n",
            "\n",
            "See the caveats in the documentation: https://pandas.pydata.org/pandas-docs/stable/user_guide/indexing.html#returning-a-view-versus-a-copy\n",
            "  errors=errors,\n"
          ],
          "name": "stderr"
        }
      ]
    },
    {
      "cell_type": "code",
      "metadata": {
        "id": "IEmWlykOx2Sg"
      },
      "source": [
        "x=[]\r\n",
        "for i in place_list:\r\n",
        "  x.append(i.resample('30min').mean())\r\n",
        "place_list = x.copy()"
      ],
      "execution_count": 246,
      "outputs": []
    },
    {
      "cell_type": "code",
      "metadata": {
        "colab": {
          "base_uri": "https://localhost:8080/",
          "height": 373
        },
        "id": "vHq_q7c-yX-F",
        "outputId": "0fa9b283-59f1-4fe5-b356-9b346ee02db0"
      },
      "source": [
        ""
      ],
      "execution_count": 249,
      "outputs": [
        {
          "output_type": "execute_result",
          "data": {
            "text/html": [
              "<div>\n",
              "<style scoped>\n",
              "    .dataframe tbody tr th:only-of-type {\n",
              "        vertical-align: middle;\n",
              "    }\n",
              "\n",
              "    .dataframe tbody tr th {\n",
              "        vertical-align: top;\n",
              "    }\n",
              "\n",
              "    .dataframe thead th {\n",
              "        text-align: right;\n",
              "    }\n",
              "</style>\n",
              "<table border=\"1\" class=\"dataframe\">\n",
              "  <thead>\n",
              "    <tr style=\"text-align: right;\">\n",
              "      <th></th>\n",
              "      <th>rainfall</th>\n",
              "    </tr>\n",
              "    <tr>\n",
              "      <th>date_time</th>\n",
              "      <th></th>\n",
              "    </tr>\n",
              "  </thead>\n",
              "  <tbody>\n",
              "    <tr>\n",
              "      <th>2020-09-24 09:00:00</th>\n",
              "      <td>1.0</td>\n",
              "    </tr>\n",
              "    <tr>\n",
              "      <th>2020-09-24 09:30:00</th>\n",
              "      <td>0.4</td>\n",
              "    </tr>\n",
              "    <tr>\n",
              "      <th>2020-09-24 10:00:00</th>\n",
              "      <td>0.0</td>\n",
              "    </tr>\n",
              "    <tr>\n",
              "      <th>2020-09-24 10:30:00</th>\n",
              "      <td>NaN</td>\n",
              "    </tr>\n",
              "    <tr>\n",
              "      <th>2020-09-24 11:00:00</th>\n",
              "      <td>0.0</td>\n",
              "    </tr>\n",
              "    <tr>\n",
              "      <th>2020-09-24 11:30:00</th>\n",
              "      <td>0.0</td>\n",
              "    </tr>\n",
              "    <tr>\n",
              "      <th>2020-09-24 12:00:00</th>\n",
              "      <td>0.0</td>\n",
              "    </tr>\n",
              "    <tr>\n",
              "      <th>2020-09-24 12:30:00</th>\n",
              "      <td>0.0</td>\n",
              "    </tr>\n",
              "    <tr>\n",
              "      <th>2020-09-24 13:00:00</th>\n",
              "      <td>0.0</td>\n",
              "    </tr>\n",
              "    <tr>\n",
              "      <th>2020-09-24 13:30:00</th>\n",
              "      <td>0.0</td>\n",
              "    </tr>\n",
              "  </tbody>\n",
              "</table>\n",
              "</div>"
            ],
            "text/plain": [
              "                     rainfall\n",
              "date_time                    \n",
              "2020-09-24 09:00:00       1.0\n",
              "2020-09-24 09:30:00       0.4\n",
              "2020-09-24 10:00:00       0.0\n",
              "2020-09-24 10:30:00       NaN\n",
              "2020-09-24 11:00:00       0.0\n",
              "2020-09-24 11:30:00       0.0\n",
              "2020-09-24 12:00:00       0.0\n",
              "2020-09-24 12:30:00       0.0\n",
              "2020-09-24 13:00:00       0.0\n",
              "2020-09-24 13:30:00       0.0"
            ]
          },
          "metadata": {
            "tags": []
          },
          "execution_count": 249
        }
      ]
    },
    {
      "cell_type": "code",
      "metadata": {
        "id": "Nk0tkUwQyX16"
      },
      "source": [
        "from pyts.preprocessing import InterpolationImputer\r\n",
        "imputer = InterpolationImputer()\r\n",
        "for i in range(0,6):\r\n",
        "  new=place_list[i].rainfall\r\n",
        "  new=imputer.transform([new])\r\n",
        "  new = new[0].tolist()\r\n",
        "  place_list[i]['rainfall'] = new\r\n",
        "  place_list[i].drop('r2',inplace=True,axis=1)"
      ],
      "execution_count": 261,
      "outputs": []
    },
    {
      "cell_type": "code",
      "metadata": {
        "colab": {
          "base_uri": "https://localhost:8080/",
          "height": 373
        },
        "id": "kuKzr_fByXr8",
        "outputId": "343ed381-f91b-4303-8928-9d104821c7c9"
      },
      "source": [
        "place_list[0][290:300]"
      ],
      "execution_count": 268,
      "outputs": [
        {
          "output_type": "execute_result",
          "data": {
            "text/html": [
              "<div>\n",
              "<style scoped>\n",
              "    .dataframe tbody tr th:only-of-type {\n",
              "        vertical-align: middle;\n",
              "    }\n",
              "\n",
              "    .dataframe tbody tr th {\n",
              "        vertical-align: top;\n",
              "    }\n",
              "\n",
              "    .dataframe thead th {\n",
              "        text-align: right;\n",
              "    }\n",
              "</style>\n",
              "<table border=\"1\" class=\"dataframe\">\n",
              "  <thead>\n",
              "    <tr style=\"text-align: right;\">\n",
              "      <th></th>\n",
              "      <th>rainfall</th>\n",
              "    </tr>\n",
              "    <tr>\n",
              "      <th>date_time</th>\n",
              "      <th></th>\n",
              "    </tr>\n",
              "  </thead>\n",
              "  <tbody>\n",
              "    <tr>\n",
              "      <th>2020-09-24 09:00:00</th>\n",
              "      <td>1.0</td>\n",
              "    </tr>\n",
              "    <tr>\n",
              "      <th>2020-09-24 09:30:00</th>\n",
              "      <td>0.4</td>\n",
              "    </tr>\n",
              "    <tr>\n",
              "      <th>2020-09-24 10:00:00</th>\n",
              "      <td>0.0</td>\n",
              "    </tr>\n",
              "    <tr>\n",
              "      <th>2020-09-24 10:30:00</th>\n",
              "      <td>0.0</td>\n",
              "    </tr>\n",
              "    <tr>\n",
              "      <th>2020-09-24 11:00:00</th>\n",
              "      <td>0.0</td>\n",
              "    </tr>\n",
              "    <tr>\n",
              "      <th>2020-09-24 11:30:00</th>\n",
              "      <td>0.0</td>\n",
              "    </tr>\n",
              "    <tr>\n",
              "      <th>2020-09-24 12:00:00</th>\n",
              "      <td>0.0</td>\n",
              "    </tr>\n",
              "    <tr>\n",
              "      <th>2020-09-24 12:30:00</th>\n",
              "      <td>0.0</td>\n",
              "    </tr>\n",
              "    <tr>\n",
              "      <th>2020-09-24 13:00:00</th>\n",
              "      <td>0.0</td>\n",
              "    </tr>\n",
              "    <tr>\n",
              "      <th>2020-09-24 13:30:00</th>\n",
              "      <td>0.0</td>\n",
              "    </tr>\n",
              "  </tbody>\n",
              "</table>\n",
              "</div>"
            ],
            "text/plain": [
              "                     rainfall\n",
              "date_time                    \n",
              "2020-09-24 09:00:00       1.0\n",
              "2020-09-24 09:30:00       0.4\n",
              "2020-09-24 10:00:00       0.0\n",
              "2020-09-24 10:30:00       0.0\n",
              "2020-09-24 11:00:00       0.0\n",
              "2020-09-24 11:30:00       0.0\n",
              "2020-09-24 12:00:00       0.0\n",
              "2020-09-24 12:30:00       0.0\n",
              "2020-09-24 13:00:00       0.0\n",
              "2020-09-24 13:30:00       0.0"
            ]
          },
          "metadata": {
            "tags": []
          },
          "execution_count": 268
        }
      ]
    },
    {
      "cell_type": "markdown",
      "metadata": {
        "id": "-8OATjia1HaG"
      },
      "source": [
        "#data preprocessing for LSTM"
      ]
    },
    {
      "cell_type": "code",
      "metadata": {
        "id": "A3RYRC58yXeW"
      },
      "source": [
        "from sklearn.preprocessing import MinMaxScaler\r\n",
        "place_dataset = []\r\n",
        "scaler = MinMaxScaler(feature_range=(0, 1))\r\n",
        "for i in place_list:\r\n",
        "  dataset = i\r\n",
        "  dataset = dataset.values\r\n",
        "  dataset = dataset.astype('float32')\r\n",
        "  dataset = scaler.fit_transform(dataset)\r\n",
        "  place_dataset.append(dataset)"
      ],
      "execution_count": 271,
      "outputs": []
    },
    {
      "cell_type": "code",
      "metadata": {
        "id": "K7b5RktJ1wwB"
      },
      "source": [
        "place_train_list=[]\r\n",
        "place_test_list=[]\r\n",
        "for i in place_dataset:\r\n",
        "  dataset = i\r\n",
        "  train_size = int(len(dataset) * 0.7)\r\n",
        "  test_size = len(dataset) - train_size\r\n",
        "  train, test = dataset[0:train_size,:], dataset[train_size:len(dataset),:]\r\n",
        "  place_train_list.append(train)\r\n",
        "  place_test_list.append(test)\r\n"
      ],
      "execution_count": 272,
      "outputs": []
    },
    {
      "cell_type": "code",
      "metadata": {
        "id": "AdMmy-Il24a3"
      },
      "source": [
        "def create_dataset(dataset, look_back=1):\r\n",
        "\tdataX, dataY = [], []\r\n",
        "\tfor i in range(len(dataset)-look_back-1):\r\n",
        "\t\ta = dataset[i:(i+look_back), 0]\r\n",
        "\t\tdataX.append(a)\r\n",
        "\t\tdataY.append(dataset[i + look_back, 0])\r\n",
        "\treturn np.array(dataX), np.array(dataY)"
      ],
      "execution_count": 273,
      "outputs": []
    },
    {
      "cell_type": "code",
      "metadata": {
        "id": "HU9u0R2_25Lm"
      },
      "source": [
        "trainX_list = []\r\n",
        "trainY_list=[]\r\n",
        "testX_list =[]\r\n",
        "testY_list=[]\r\n",
        "for i in range(6):\r\n",
        "  tX,tY = create_dataset(place_train_list[i])\r\n",
        "  testx,testy = create_dataset(place_test_list[i])\r\n",
        "  tX=np.reshape(tX, (tX.shape[0], 1, tX.shape[1]))\r\n",
        "  testx = np.reshape(testx, (testx.shape[0], 1, testx.shape[1]))\r\n",
        "  trainX_list.append(tX)\r\n",
        "  trainY_list.append(tY)\r\n",
        "  testX_list.append(testx)\r\n",
        "  testY_list.append(testy)"
      ],
      "execution_count": 280,
      "outputs": []
    },
    {
      "cell_type": "code",
      "metadata": {
        "colab": {
          "base_uri": "https://localhost:8080/"
        },
        "id": "OGmdfX0y5zbJ",
        "outputId": "7a75b3df-81cb-42d5-be03-d2e26e84cb35"
      },
      "source": [
        "trainX_list[0]"
      ],
      "execution_count": 281,
      "outputs": [
        {
          "output_type": "execute_result",
          "data": {
            "text/plain": [
              "array([[[0.]],\n",
              "\n",
              "       [[0.]],\n",
              "\n",
              "       [[0.]],\n",
              "\n",
              "       ...,\n",
              "\n",
              "       [[0.]],\n",
              "\n",
              "       [[0.]],\n",
              "\n",
              "       [[0.]]], dtype=float32)"
            ]
          },
          "metadata": {
            "tags": []
          },
          "execution_count": 281
        }
      ]
    },
    {
      "cell_type": "code",
      "metadata": {
        "colab": {
          "base_uri": "https://localhost:8080/"
        },
        "id": "_8cXOi2T45Wv",
        "outputId": "c5da98cc-4260-4553-db97-0ba67987c7fe"
      },
      "source": [
        "model_list=[]\r\n",
        "for i in range(6):\r\n",
        "  model = Sequential()\r\n",
        "  model.add(LSTM(4, input_shape=(1, 1)))\r\n",
        "  model.add(Dense(1))\r\n",
        "  model.compile(loss='mean_squared_error', optimizer='adam')\r\n",
        "  model.fit(trainX_list[i], trainY_list[i], epochs=10, batch_size=1, verbose=2)\r\n",
        "  model_list.append(model)"
      ],
      "execution_count": 284,
      "outputs": [
        {
          "output_type": "stream",
          "text": [
            "Epoch 1/10\n",
            "2251/2251 - 3s - loss: 0.0104\n",
            "Epoch 2/10\n",
            "2251/2251 - 2s - loss: 0.0027\n",
            "Epoch 3/10\n",
            "2251/2251 - 2s - loss: 0.0019\n",
            "Epoch 4/10\n",
            "2251/2251 - 2s - loss: 0.0019\n",
            "Epoch 5/10\n",
            "2251/2251 - 2s - loss: 0.0019\n",
            "Epoch 6/10\n",
            "2251/2251 - 2s - loss: 0.0019\n",
            "Epoch 7/10\n",
            "2251/2251 - 2s - loss: 0.0019\n",
            "Epoch 8/10\n",
            "2251/2251 - 2s - loss: 0.0019\n",
            "Epoch 9/10\n",
            "2251/2251 - 2s - loss: 0.0019\n",
            "Epoch 10/10\n",
            "2251/2251 - 2s - loss: 0.0019\n",
            "Epoch 1/10\n",
            "2250/2250 - 3s - loss: 0.0024\n",
            "Epoch 2/10\n",
            "2250/2250 - 2s - loss: 0.0018\n",
            "Epoch 3/10\n",
            "2250/2250 - 2s - loss: 9.7867e-04\n",
            "Epoch 4/10\n",
            "2250/2250 - 2s - loss: 5.5258e-04\n",
            "Epoch 5/10\n",
            "2250/2250 - 2s - loss: 4.2387e-04\n",
            "Epoch 6/10\n",
            "2250/2250 - 2s - loss: 4.0128e-04\n",
            "Epoch 7/10\n",
            "2250/2250 - 2s - loss: 3.9388e-04\n",
            "Epoch 8/10\n",
            "2250/2250 - 2s - loss: 3.9263e-04\n",
            "Epoch 9/10\n",
            "2250/2250 - 2s - loss: 4.0170e-04\n",
            "Epoch 10/10\n",
            "2250/2250 - 2s - loss: 3.9045e-04\n",
            "Epoch 1/10\n",
            "2251/2251 - 3s - loss: 0.0037\n",
            "Epoch 2/10\n",
            "2251/2251 - 2s - loss: 0.0022\n",
            "Epoch 3/10\n",
            "2251/2251 - 2s - loss: 8.4107e-04\n",
            "Epoch 4/10\n",
            "2251/2251 - 2s - loss: 5.5408e-04\n",
            "Epoch 5/10\n",
            "2251/2251 - 2s - loss: 5.5016e-04\n",
            "Epoch 6/10\n",
            "2251/2251 - 2s - loss: 5.3836e-04\n",
            "Epoch 7/10\n",
            "2251/2251 - 2s - loss: 5.4666e-04\n",
            "Epoch 8/10\n",
            "2251/2251 - 2s - loss: 5.3959e-04\n",
            "Epoch 9/10\n",
            "2251/2251 - 2s - loss: 5.4683e-04\n",
            "Epoch 10/10\n",
            "2251/2251 - 2s - loss: 5.3394e-04\n",
            "Epoch 1/10\n",
            "2251/2251 - 3s - loss: 0.0022\n",
            "Epoch 2/10\n",
            "2251/2251 - 2s - loss: 7.3948e-04\n",
            "Epoch 3/10\n",
            "2251/2251 - 2s - loss: 6.3314e-04\n",
            "Epoch 4/10\n",
            "2251/2251 - 2s - loss: 6.5989e-04\n",
            "Epoch 5/10\n",
            "2251/2251 - 2s - loss: 6.1325e-04\n",
            "Epoch 6/10\n",
            "2251/2251 - 2s - loss: 6.7034e-04\n",
            "Epoch 7/10\n",
            "2251/2251 - 2s - loss: 6.4504e-04\n",
            "Epoch 8/10\n",
            "2251/2251 - 2s - loss: 6.4933e-04\n",
            "Epoch 9/10\n",
            "2251/2251 - 2s - loss: 6.2740e-04\n",
            "Epoch 10/10\n",
            "2251/2251 - 2s - loss: 6.6922e-04\n",
            "Epoch 1/10\n",
            "2251/2251 - 4s - loss: 0.0028\n",
            "Epoch 2/10\n",
            "2251/2251 - 2s - loss: 0.0020\n",
            "Epoch 3/10\n",
            "2251/2251 - 2s - loss: 0.0013\n",
            "Epoch 4/10\n",
            "2251/2251 - 2s - loss: 0.0012\n",
            "Epoch 5/10\n",
            "2251/2251 - 2s - loss: 0.0012\n",
            "Epoch 6/10\n",
            "2251/2251 - 3s - loss: 0.0012\n",
            "Epoch 7/10\n",
            "2251/2251 - 2s - loss: 0.0012\n",
            "Epoch 8/10\n",
            "2251/2251 - 2s - loss: 0.0012\n",
            "Epoch 9/10\n",
            "2251/2251 - 2s - loss: 0.0012\n",
            "Epoch 10/10\n",
            "2251/2251 - 2s - loss: 0.0012\n",
            "Epoch 1/10\n",
            "2251/2251 - 4s - loss: 0.0086\n",
            "Epoch 2/10\n",
            "2251/2251 - 2s - loss: 0.0033\n",
            "Epoch 3/10\n",
            "2251/2251 - 2s - loss: 0.0019\n",
            "Epoch 4/10\n",
            "2251/2251 - 2s - loss: 0.0018\n",
            "Epoch 5/10\n",
            "2251/2251 - 2s - loss: 0.0018\n",
            "Epoch 6/10\n",
            "2251/2251 - 2s - loss: 0.0018\n",
            "Epoch 7/10\n",
            "2251/2251 - 2s - loss: 0.0018\n",
            "Epoch 8/10\n",
            "2251/2251 - 2s - loss: 0.0018\n",
            "Epoch 9/10\n",
            "2251/2251 - 2s - loss: 0.0018\n",
            "Epoch 10/10\n",
            "2251/2251 - 2s - loss: 0.0018\n"
          ],
          "name": "stdout"
        }
      ]
    },
    {
      "cell_type": "code",
      "metadata": {
        "colab": {
          "base_uri": "https://localhost:8080/"
        },
        "id": "Ye-Y273H5hOX",
        "outputId": "9acf7dc0-e48b-47a6-b975-a5989bc2ff8a"
      },
      "source": [
        "from sklearn.metrics import mean_squared_error\r\n",
        "for i in range(6):\r\n",
        "\r\n",
        "  trainPredict = model_list[i].predict(trainX_list[i])\r\n",
        "  testPredict = model_list[i].predict(testX_list[i])\r\n",
        "  #invert predictions\r\n",
        "  trainPredict = scaler.inverse_transform(trainPredict)\r\n",
        "  \r\n",
        "  trainY = scaler.inverse_transform([trainY_list[i]])\r\n",
        "  testPredict = scaler.inverse_transform(testPredict)\r\n",
        "\r\n",
        "  testY = scaler.inverse_transform([testY_list[i]])\r\n",
        "  #print(test)\r\n",
        "  # calculate root mean squared error\r\n",
        "  trainScore = (mean_squared_error(trainY[0], trainPredict[:,0]))\r\n",
        "  print(place_name[i])\r\n",
        "  print('Train Score: %.2f RMSE' % (trainScore))\r\n",
        "  testScore = math.sqrt(mean_squared_error(testY[0], testPredict[:,0]))\r\n",
        "  print('Test Score: %.2f RMSE' % (testScore))"
      ],
      "execution_count": 290,
      "outputs": [
        {
          "output_type": "stream",
          "text": [
            " Tokyo\n",
            "Train Score: 0.07 RMSE\n",
            "Test Score: 0.12 RMSE\n",
            " Naha\n",
            "Train Score: 0.01 RMSE\n",
            "Test Score: 0.05 RMSE\n",
            " Sendai\n",
            "Train Score: 0.02 RMSE\n",
            "Test Score: 0.03 RMSE\n",
            " Osaka\n",
            "Train Score: 0.02 RMSE\n",
            "Test Score: 0.10 RMSE\n",
            " Nigata\n",
            "Train Score: 0.04 RMSE\n",
            "Test Score: 0.13 RMSE\n",
            " Fukuoka\n",
            "Train Score: 0.07 RMSE\n",
            "Test Score: 0.21 RMSE\n"
          ],
          "name": "stdout"
        }
      ]
    },
    {
      "cell_type": "code",
      "metadata": {
        "id": "FCh9H3NY8a3K"
      },
      "source": [
        ""
      ],
      "execution_count": null,
      "outputs": []
    }
  ]
}